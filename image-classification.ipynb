{
 "cells": [
  {
   "cell_type": "markdown",
   "id": "022d2304",
   "metadata": {},
   "source": [
    "## Image Classification (Numbers)"
   ]
  },
  {
   "cell_type": "code",
   "execution_count": null,
   "id": "24aa912d",
   "metadata": {},
   "outputs": [],
   "source": [
    "import numpy as np\n",
    "import matplotlib.pyplot as plt\n",
    "from sklearn.datasets import fetch_openml\n",
    "from sklearn.preprocessing import StandardScaler"
   ]
  },
  {
   "cell_type": "code",
   "execution_count": null,
   "id": "6cf495f4",
   "metadata": {},
   "outputs": [],
   "source": [
    "# Fetch MNIST data (might take some time)\n",
    "mnist = fetch_openml('mnist_784')\n",
    "\n",
    "X = mnist.data.astype('float32')\n",
    "y = mnist.target.astype('int64')\n",
    "\n",
    "# Standardize the data\n",
    "scaler = StandardScaler()\n",
    "X = scaler.fit_transform(X)"
   ]
  },
  {
   "cell_type": "code",
   "execution_count": null,
   "id": "b245f9db",
   "metadata": {},
   "outputs": [],
   "source": [
    "import numpy as np\n",
    "import pandas as pd\n",
    "import matplotlib.pyplot as plt\n",
    "from sklearn.datasets import fetch_openml\n",
    "from sklearn.model_selection import train_test_split, GridSearchCV, cross_val_score\n",
    "from sklearn.neighbors import KNeighborsClassifier\n",
    "from sklearn.linear_model import LogisticRegression\n",
    "from sklearn.tree import DecisionTreeClassifier\n",
    "from sklearn.svm import SVC\n",
    "from sklearn.metrics import confusion_matrix, classification_report, accuracy_score"
   ]
  },
  {
   "cell_type": "code",
   "execution_count": null,
   "id": "bedc2091",
   "metadata": {},
   "outputs": [],
   "source": [
    "X_train, X_temp, y_train, y_temp = train_test_split(X, y, test_size=0.2)\n",
    "X_val, X_test, y_val, y_test = train_test_split(X_temp, y_temp, test_size=0.5)"
   ]
  },
  {
   "cell_type": "code",
   "execution_count": null,
   "id": "486ecf14",
   "metadata": {},
   "outputs": [],
   "source": [
    "knn_params = {'n_neighbors': [3, 5, 7, 9]}\n",
    "knn = GridSearchCV(KNeighborsClassifier(), knn_params, cv=5)\n",
    "knn.fit(X_train, y_train)\n",
    "print(f'Best K-NN Params: {knn.best_params_}')\n",
    "\n",
    "knn_pred = knn.predict(X_val)\n",
    "print(confusion_matrix(y_val, knn_pred))\n",
    "print(classification_report(y_val, knn_pred))\n",
    "print(f'Validation Accuracy: {accuracy_score(y_val, knn_pred)}')"
   ]
  },
  {
   "cell_type": "code",
   "execution_count": null,
   "id": "e6332b06",
   "metadata": {},
   "outputs": [],
   "source": [
    "log_reg_params = {'C': [0.01, 0.1, 1, 10]}\n",
    "log_reg = GridSearchCV(LogisticRegression(max_iter=1000), log_reg_params, cv=5)\n",
    "log_reg.fit(X_train, y_train)\n",
    "print(f'Best Logistic Regression Params: {log_reg.best_params_}')\n",
    "\n",
    "log_reg_pred = log_reg.predict(X_val)\n",
    "print(confusion_matrix(y_val, log_reg_pred))\n",
    "print(classification_report(y_val, log_reg_pred))\n",
    "print(f'Validation Accuracy: {accuracy_score(y_val, log_reg_pred)}')"
   ]
  },
  {
   "cell_type": "code",
   "execution_count": null,
   "id": "e6943edf",
   "metadata": {},
   "outputs": [],
   "source": [
    "tree_params = {'max_depth': [10, 20, 30, 40, None]}\n",
    "tree = GridSearchCV(DecisionTreeClassifier(), tree_params, cv=5)\n",
    "tree.fit(X_train, y_train)\n",
    "print(f'Best Decision Tree Params: {tree.best_params_}')\n",
    "\n",
    "tree_pred = tree.predict(X_val)\n",
    "print(confusion_matrix(y_val, tree_pred))\n",
    "print(classification_report(y_val, tree_pred))\n",
    "print(f'Validation Accuracy: {accuracy_score(y_val, tree_pred)}')"
   ]
  },
  {
   "cell_type": "code",
   "execution_count": null,
   "id": "4e649e44",
   "metadata": {},
   "outputs": [],
   "source": [
    "svm_params = {'C': [0.1, 1, 10], 'kernel': ['linear', 'rbf']}\n",
    "svm = GridSearchCV(SVC(), svm_params, cv=5)\n",
    "svm.fit(X_train, y_train)\n",
    "print(f'Best SVM Params: {svm.best_params_}')\n",
    "\n",
    "svm_pred = svm.predict(X_val)\n",
    "print(confusion_matrix(y_val, svm_pred))\n",
    "print(classification_report(y_val, svm_pred))\n",
    "print(f'Validation Accuracy: {accuracy_score(y_val, svm_pred)}')"
   ]
  },
  {
   "cell_type": "code",
   "execution_count": null,
   "id": "3158b477",
   "metadata": {},
   "outputs": [],
   "source": [
    "knn_test_pred = knn.predict(X_test)\n",
    "print('K-NN Test Accuracy:', accuracy_score(y_test, knn_test_pred))\n",
    "\n",
    "log_reg_test_pred = log_reg.predict(X_test)\n",
    "print('Logistic Regression Test Accuracy:', accuracy_score(y_test, log_reg_test_pred))\n",
    "\n",
    "tree_test_pred = tree.predict(X_test)\n",
    "print('Decision Tree Test Accuracy:', accuracy_score(y_test, tree_test_pred))\n",
    "\n",
    "svm_test_pred = svm.predict(X_test)\n",
    "print('SVM Test Accuracy:', accuracy_score(y_test, svm_test_pred))\n"
   ]
  },
  {
   "cell_type": "code",
   "execution_count": null,
   "id": "7435406b",
   "metadata": {},
   "outputs": [],
   "source": [
    "print(f\"Best K-NN Params: {knn.best_params_}, Test Accuracy: {accuracy_score(y_test, knn_test_pred)}\")\n",
    "print(f\"Best Logistic Regression Params: {log_reg.best_params_}, Test Accuracy: {accuracy_score(y_test, log_reg_test_pred)}\")\n",
    "print(f\"Best Decision Tree Params: {tree.best_params_}, Test Accuracy: {accuracy_score(y_test, tree_test_pred)}\")\n",
    "print(f\"Best SVM Params: {svm.best_params_}, Test Accuracy: {accuracy_score(y_test, svm_test_pred)}\")\n"
   ]
  }
 ],
 "metadata": {
  "kernelspec": {
   "display_name": "Python 3 (ipykernel)",
   "language": "python",
   "name": "python3"
  },
  "language_info": {
   "codemirror_mode": {
    "name": "ipython",
    "version": 3
   },
   "file_extension": ".py",
   "mimetype": "text/x-python",
   "name": "python",
   "nbconvert_exporter": "python",
   "pygments_lexer": "ipython3",
   "version": "3.9.19"
  }
 },
 "nbformat": 4,
 "nbformat_minor": 5
}
